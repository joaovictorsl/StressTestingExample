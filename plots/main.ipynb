{
 "cells": [
  {
   "attachments": {},
   "cell_type": "markdown",
   "metadata": {},
   "source": [
    "# Imports"
   ]
  },
  {
   "cell_type": "code",
   "execution_count": 253,
   "metadata": {},
   "outputs": [],
   "source": [
    "from matplotlib import pyplot as plt\n",
    "import pandas as pd"
   ]
  },
  {
   "attachments": {},
   "cell_type": "markdown",
   "metadata": {},
   "source": [
    "# Buscando dados em CSVs"
   ]
  },
  {
   "cell_type": "code",
   "execution_count": 254,
   "metadata": {},
   "outputs": [],
   "source": [
    "df_b = pd.read_csv(\"../Test/Results/BSort.csv\")\n",
    "summary_b = pd.read_csv(\"../Test/Results/BSortSummary.csv\")\n",
    "\n",
    "df_q = pd.read_csv(\"../Test/Results/QSort.csv\")\n",
    "summary_q = pd.read_csv(\"../Test/Results/QSortSummary.csv\")"
   ]
  },
  {
   "attachments": {},
   "cell_type": "markdown",
   "metadata": {},
   "source": [
    "Vamos observar as seguintes colunas:\n",
    "- allThreads: Número de Threads ativas em todos os grupos, como nosso teste foi feito com apenas um grupo esse número representa a quantidade total de threads ativas..\n",
    "- Latency: Tempo até o primeiro bit da resposta ser recebido."
   ]
  },
  {
   "attachments": {},
   "cell_type": "markdown",
   "metadata": {},
   "source": [
    "# Analisando sumário"
   ]
  },
  {
   "attachments": {},
   "cell_type": "markdown",
   "metadata": {},
   "source": [
    "Average, Min, Max, Std.Dev são em relação aos milisegundos decorridos durante a chamada."
   ]
  },
  {
   "cell_type": "code",
   "execution_count": 255,
   "metadata": {},
   "outputs": [
    {
     "data": {
      "text/html": [
       "<div>\n",
       "<style scoped>\n",
       "    .dataframe tbody tr th:only-of-type {\n",
       "        vertical-align: middle;\n",
       "    }\n",
       "\n",
       "    .dataframe tbody tr th {\n",
       "        vertical-align: top;\n",
       "    }\n",
       "\n",
       "    .dataframe thead th {\n",
       "        text-align: right;\n",
       "    }\n",
       "</style>\n",
       "<table border=\"1\" class=\"dataframe\">\n",
       "  <thead>\n",
       "    <tr style=\"text-align: right;\">\n",
       "      <th></th>\n",
       "      <th>Label</th>\n",
       "      <th># Samples</th>\n",
       "      <th>Average</th>\n",
       "      <th>Min</th>\n",
       "      <th>Max</th>\n",
       "      <th>Std. Dev.</th>\n",
       "      <th>Error %</th>\n",
       "      <th>Throughput</th>\n",
       "      <th>Received KB/sec</th>\n",
       "      <th>Sent KB/sec</th>\n",
       "      <th>Avg. Bytes</th>\n",
       "    </tr>\n",
       "  </thead>\n",
       "  <tbody>\n",
       "    <tr>\n",
       "      <th>0</th>\n",
       "      <td>Asking for array to be sorted</td>\n",
       "      <td>1650</td>\n",
       "      <td>144153</td>\n",
       "      <td>530</td>\n",
       "      <td>468967</td>\n",
       "      <td>81301.59</td>\n",
       "      <td>0.000%</td>\n",
       "      <td>3.47071</td>\n",
       "      <td>200.41</td>\n",
       "      <td>234.11</td>\n",
       "      <td>59128.0</td>\n",
       "    </tr>\n",
       "    <tr>\n",
       "      <th>1</th>\n",
       "      <td>TOTAL</td>\n",
       "      <td>1650</td>\n",
       "      <td>144153</td>\n",
       "      <td>530</td>\n",
       "      <td>468967</td>\n",
       "      <td>81301.59</td>\n",
       "      <td>0.000%</td>\n",
       "      <td>3.47071</td>\n",
       "      <td>200.41</td>\n",
       "      <td>234.11</td>\n",
       "      <td>59128.0</td>\n",
       "    </tr>\n",
       "  </tbody>\n",
       "</table>\n",
       "</div>"
      ],
      "text/plain": [
       "                           Label  # Samples  Average  Min     Max  Std. Dev.   \n",
       "0  Asking for array to be sorted       1650   144153  530  468967   81301.59  \\\n",
       "1                          TOTAL       1650   144153  530  468967   81301.59   \n",
       "\n",
       "  Error %  Throughput  Received KB/sec  Sent KB/sec  Avg. Bytes  \n",
       "0  0.000%     3.47071           200.41       234.11     59128.0  \n",
       "1  0.000%     3.47071           200.41       234.11     59128.0  "
      ]
     },
     "execution_count": 255,
     "metadata": {},
     "output_type": "execute_result"
    }
   ],
   "source": [
    "summary_b"
   ]
  },
  {
   "cell_type": "code",
   "execution_count": 256,
   "metadata": {},
   "outputs": [
    {
     "data": {
      "text/html": [
       "<div>\n",
       "<style scoped>\n",
       "    .dataframe tbody tr th:only-of-type {\n",
       "        vertical-align: middle;\n",
       "    }\n",
       "\n",
       "    .dataframe tbody tr th {\n",
       "        vertical-align: top;\n",
       "    }\n",
       "\n",
       "    .dataframe thead th {\n",
       "        text-align: right;\n",
       "    }\n",
       "</style>\n",
       "<table border=\"1\" class=\"dataframe\">\n",
       "  <thead>\n",
       "    <tr style=\"text-align: right;\">\n",
       "      <th></th>\n",
       "      <th>Label</th>\n",
       "      <th># Samples</th>\n",
       "      <th>Average</th>\n",
       "      <th>Min</th>\n",
       "      <th>Max</th>\n",
       "      <th>Std. Dev.</th>\n",
       "      <th>Error %</th>\n",
       "      <th>Throughput</th>\n",
       "      <th>Received KB/sec</th>\n",
       "      <th>Sent KB/sec</th>\n",
       "      <th>Avg. Bytes</th>\n",
       "    </tr>\n",
       "  </thead>\n",
       "  <tbody>\n",
       "    <tr>\n",
       "      <th>0</th>\n",
       "      <td>Asking for array to be sorted</td>\n",
       "      <td>1650</td>\n",
       "      <td>1676</td>\n",
       "      <td>349</td>\n",
       "      <td>4368</td>\n",
       "      <td>1149.66</td>\n",
       "      <td>0.000%</td>\n",
       "      <td>129.33062</td>\n",
       "      <td>7467.83</td>\n",
       "      <td>8723.63</td>\n",
       "      <td>59128.0</td>\n",
       "    </tr>\n",
       "    <tr>\n",
       "      <th>1</th>\n",
       "      <td>TOTAL</td>\n",
       "      <td>1650</td>\n",
       "      <td>1676</td>\n",
       "      <td>349</td>\n",
       "      <td>4368</td>\n",
       "      <td>1149.66</td>\n",
       "      <td>0.000%</td>\n",
       "      <td>129.33062</td>\n",
       "      <td>7467.83</td>\n",
       "      <td>8723.63</td>\n",
       "      <td>59128.0</td>\n",
       "    </tr>\n",
       "  </tbody>\n",
       "</table>\n",
       "</div>"
      ],
      "text/plain": [
       "                           Label  # Samples  Average  Min   Max  Std. Dev.   \n",
       "0  Asking for array to be sorted       1650     1676  349  4368    1149.66  \\\n",
       "1                          TOTAL       1650     1676  349  4368    1149.66   \n",
       "\n",
       "  Error %  Throughput  Received KB/sec  Sent KB/sec  Avg. Bytes  \n",
       "0  0.000%   129.33062          7467.83      8723.63     59128.0  \n",
       "1  0.000%   129.33062          7467.83      8723.63     59128.0  "
      ]
     },
     "execution_count": 256,
     "metadata": {},
     "output_type": "execute_result"
    }
   ],
   "source": [
    "summary_q"
   ]
  },
  {
   "attachments": {},
   "cell_type": "markdown",
   "metadata": {},
   "source": [
    "Podemos ver que a média da latência com o QuickSort é de 1,6s. Enquanto do BubbleSort é 144,1s."
   ]
  },
  {
   "cell_type": "code",
   "execution_count": 257,
   "metadata": {},
   "outputs": [
    {
     "data": {
      "text/html": [
       "<div>\n",
       "<style scoped>\n",
       "    .dataframe tbody tr th:only-of-type {\n",
       "        vertical-align: middle;\n",
       "    }\n",
       "\n",
       "    .dataframe tbody tr th {\n",
       "        vertical-align: top;\n",
       "    }\n",
       "\n",
       "    .dataframe thead th {\n",
       "        text-align: right;\n",
       "    }\n",
       "</style>\n",
       "<table border=\"1\" class=\"dataframe\">\n",
       "  <thead>\n",
       "    <tr style=\"text-align: right;\">\n",
       "      <th></th>\n",
       "      <th>timeStamp</th>\n",
       "      <th>elapsed</th>\n",
       "      <th>responseCode</th>\n",
       "      <th>failureMessage</th>\n",
       "      <th>bytes</th>\n",
       "      <th>sentBytes</th>\n",
       "      <th>grpThreads</th>\n",
       "      <th>allThreads</th>\n",
       "      <th>Latency</th>\n",
       "      <th>IdleTime</th>\n",
       "      <th>Connect</th>\n",
       "    </tr>\n",
       "  </thead>\n",
       "  <tbody>\n",
       "    <tr>\n",
       "      <th>count</th>\n",
       "      <td>1.650000e+03</td>\n",
       "      <td>1650.000000</td>\n",
       "      <td>1650.0</td>\n",
       "      <td>0.0</td>\n",
       "      <td>1650.0</td>\n",
       "      <td>1650.0</td>\n",
       "      <td>1650.000000</td>\n",
       "      <td>1650.000000</td>\n",
       "      <td>1650.000000</td>\n",
       "      <td>1650.0</td>\n",
       "      <td>1650.000000</td>\n",
       "    </tr>\n",
       "    <tr>\n",
       "      <th>mean</th>\n",
       "      <td>1.683218e+12</td>\n",
       "      <td>144153.357576</td>\n",
       "      <td>200.0</td>\n",
       "      <td>NaN</td>\n",
       "      <td>59128.0</td>\n",
       "      <td>69072.0</td>\n",
       "      <td>804.410909</td>\n",
       "      <td>804.410909</td>\n",
       "      <td>141727.367879</td>\n",
       "      <td>0.0</td>\n",
       "      <td>16594.703030</td>\n",
       "    </tr>\n",
       "    <tr>\n",
       "      <th>std</th>\n",
       "      <td>2.286000e+03</td>\n",
       "      <td>81326.238370</td>\n",
       "      <td>0.0</td>\n",
       "      <td>NaN</td>\n",
       "      <td>0.0</td>\n",
       "      <td>0.0</td>\n",
       "      <td>470.775584</td>\n",
       "      <td>470.775584</td>\n",
       "      <td>83679.406018</td>\n",
       "      <td>0.0</td>\n",
       "      <td>28039.141223</td>\n",
       "    </tr>\n",
       "    <tr>\n",
       "      <th>min</th>\n",
       "      <td>1.683218e+12</td>\n",
       "      <td>530.000000</td>\n",
       "      <td>200.0</td>\n",
       "      <td>NaN</td>\n",
       "      <td>59128.0</td>\n",
       "      <td>69072.0</td>\n",
       "      <td>1.000000</td>\n",
       "      <td>1.000000</td>\n",
       "      <td>416.000000</td>\n",
       "      <td>0.0</td>\n",
       "      <td>55.000000</td>\n",
       "    </tr>\n",
       "    <tr>\n",
       "      <th>25%</th>\n",
       "      <td>1.683218e+12</td>\n",
       "      <td>92285.000000</td>\n",
       "      <td>200.0</td>\n",
       "      <td>NaN</td>\n",
       "      <td>59128.0</td>\n",
       "      <td>69072.0</td>\n",
       "      <td>394.250000</td>\n",
       "      <td>394.250000</td>\n",
       "      <td>69538.250000</td>\n",
       "      <td>0.0</td>\n",
       "      <td>56.000000</td>\n",
       "    </tr>\n",
       "    <tr>\n",
       "      <th>50%</th>\n",
       "      <td>1.683218e+12</td>\n",
       "      <td>139235.000000</td>\n",
       "      <td>200.0</td>\n",
       "      <td>NaN</td>\n",
       "      <td>59128.0</td>\n",
       "      <td>69072.0</td>\n",
       "      <td>799.500000</td>\n",
       "      <td>799.500000</td>\n",
       "      <td>139119.500000</td>\n",
       "      <td>0.0</td>\n",
       "      <td>58.000000</td>\n",
       "    </tr>\n",
       "    <tr>\n",
       "      <th>75%</th>\n",
       "      <td>1.683218e+12</td>\n",
       "      <td>214419.250000</td>\n",
       "      <td>200.0</td>\n",
       "      <td>NaN</td>\n",
       "      <td>59128.0</td>\n",
       "      <td>69072.0</td>\n",
       "      <td>1213.000000</td>\n",
       "      <td>1213.000000</td>\n",
       "      <td>214261.500000</td>\n",
       "      <td>0.0</td>\n",
       "      <td>63857.750000</td>\n",
       "    </tr>\n",
       "    <tr>\n",
       "      <th>max</th>\n",
       "      <td>1.683218e+12</td>\n",
       "      <td>468967.000000</td>\n",
       "      <td>200.0</td>\n",
       "      <td>NaN</td>\n",
       "      <td>59128.0</td>\n",
       "      <td>69072.0</td>\n",
       "      <td>1624.000000</td>\n",
       "      <td>1624.000000</td>\n",
       "      <td>468843.000000</td>\n",
       "      <td>0.0</td>\n",
       "      <td>64366.000000</td>\n",
       "    </tr>\n",
       "  </tbody>\n",
       "</table>\n",
       "</div>"
      ],
      "text/plain": [
       "          timeStamp        elapsed  responseCode  failureMessage    bytes   \n",
       "count  1.650000e+03    1650.000000        1650.0             0.0   1650.0  \\\n",
       "mean   1.683218e+12  144153.357576         200.0             NaN  59128.0   \n",
       "std    2.286000e+03   81326.238370           0.0             NaN      0.0   \n",
       "min    1.683218e+12     530.000000         200.0             NaN  59128.0   \n",
       "25%    1.683218e+12   92285.000000         200.0             NaN  59128.0   \n",
       "50%    1.683218e+12  139235.000000         200.0             NaN  59128.0   \n",
       "75%    1.683218e+12  214419.250000         200.0             NaN  59128.0   \n",
       "max    1.683218e+12  468967.000000         200.0             NaN  59128.0   \n",
       "\n",
       "       sentBytes   grpThreads   allThreads        Latency  IdleTime   \n",
       "count     1650.0  1650.000000  1650.000000    1650.000000    1650.0  \\\n",
       "mean     69072.0   804.410909   804.410909  141727.367879       0.0   \n",
       "std          0.0   470.775584   470.775584   83679.406018       0.0   \n",
       "min      69072.0     1.000000     1.000000     416.000000       0.0   \n",
       "25%      69072.0   394.250000   394.250000   69538.250000       0.0   \n",
       "50%      69072.0   799.500000   799.500000  139119.500000       0.0   \n",
       "75%      69072.0  1213.000000  1213.000000  214261.500000       0.0   \n",
       "max      69072.0  1624.000000  1624.000000  468843.000000       0.0   \n",
       "\n",
       "            Connect  \n",
       "count   1650.000000  \n",
       "mean   16594.703030  \n",
       "std    28039.141223  \n",
       "min       55.000000  \n",
       "25%       56.000000  \n",
       "50%       58.000000  \n",
       "75%    63857.750000  \n",
       "max    64366.000000  "
      ]
     },
     "execution_count": 257,
     "metadata": {},
     "output_type": "execute_result"
    }
   ],
   "source": [
    "df_b.describe()"
   ]
  },
  {
   "cell_type": "code",
   "execution_count": 258,
   "metadata": {},
   "outputs": [
    {
     "data": {
      "text/html": [
       "<div>\n",
       "<style scoped>\n",
       "    .dataframe tbody tr th:only-of-type {\n",
       "        vertical-align: middle;\n",
       "    }\n",
       "\n",
       "    .dataframe tbody tr th {\n",
       "        vertical-align: top;\n",
       "    }\n",
       "\n",
       "    .dataframe thead th {\n",
       "        text-align: right;\n",
       "    }\n",
       "</style>\n",
       "<table border=\"1\" class=\"dataframe\">\n",
       "  <thead>\n",
       "    <tr style=\"text-align: right;\">\n",
       "      <th></th>\n",
       "      <th>timeStamp</th>\n",
       "      <th>elapsed</th>\n",
       "      <th>responseCode</th>\n",
       "      <th>failureMessage</th>\n",
       "      <th>bytes</th>\n",
       "      <th>sentBytes</th>\n",
       "      <th>grpThreads</th>\n",
       "      <th>allThreads</th>\n",
       "      <th>Latency</th>\n",
       "      <th>IdleTime</th>\n",
       "      <th>Connect</th>\n",
       "    </tr>\n",
       "  </thead>\n",
       "  <tbody>\n",
       "    <tr>\n",
       "      <th>count</th>\n",
       "      <td>1.650000e+03</td>\n",
       "      <td>1650.000000</td>\n",
       "      <td>1650.0</td>\n",
       "      <td>0.0</td>\n",
       "      <td>1650.0</td>\n",
       "      <td>1650.0</td>\n",
       "      <td>1650.000000</td>\n",
       "      <td>1650.000000</td>\n",
       "      <td>1650.000000</td>\n",
       "      <td>1650.0</td>\n",
       "      <td>1650.000000</td>\n",
       "    </tr>\n",
       "    <tr>\n",
       "      <th>mean</th>\n",
       "      <td>1.683218e+12</td>\n",
       "      <td>1676.758182</td>\n",
       "      <td>200.0</td>\n",
       "      <td>NaN</td>\n",
       "      <td>59128.0</td>\n",
       "      <td>69071.0</td>\n",
       "      <td>250.049697</td>\n",
       "      <td>250.049697</td>\n",
       "      <td>1547.796364</td>\n",
       "      <td>0.0</td>\n",
       "      <td>71.689697</td>\n",
       "    </tr>\n",
       "    <tr>\n",
       "      <th>std</th>\n",
       "      <td>2.268368e+03</td>\n",
       "      <td>1150.008791</td>\n",
       "      <td>0.0</td>\n",
       "      <td>NaN</td>\n",
       "      <td>0.0</td>\n",
       "      <td>0.0</td>\n",
       "      <td>188.018343</td>\n",
       "      <td>188.018343</td>\n",
       "      <td>1148.660130</td>\n",
       "      <td>0.0</td>\n",
       "      <td>57.663960</td>\n",
       "    </tr>\n",
       "    <tr>\n",
       "      <th>min</th>\n",
       "      <td>1.683218e+12</td>\n",
       "      <td>349.000000</td>\n",
       "      <td>200.0</td>\n",
       "      <td>NaN</td>\n",
       "      <td>59128.0</td>\n",
       "      <td>69071.0</td>\n",
       "      <td>1.000000</td>\n",
       "      <td>1.000000</td>\n",
       "      <td>235.000000</td>\n",
       "      <td>0.0</td>\n",
       "      <td>55.000000</td>\n",
       "    </tr>\n",
       "    <tr>\n",
       "      <th>25%</th>\n",
       "      <td>1.683218e+12</td>\n",
       "      <td>543.250000</td>\n",
       "      <td>200.0</td>\n",
       "      <td>NaN</td>\n",
       "      <td>59128.0</td>\n",
       "      <td>69071.0</td>\n",
       "      <td>80.000000</td>\n",
       "      <td>80.000000</td>\n",
       "      <td>416.250000</td>\n",
       "      <td>0.0</td>\n",
       "      <td>61.000000</td>\n",
       "    </tr>\n",
       "    <tr>\n",
       "      <th>50%</th>\n",
       "      <td>1.683218e+12</td>\n",
       "      <td>1386.500000</td>\n",
       "      <td>200.0</td>\n",
       "      <td>NaN</td>\n",
       "      <td>59128.0</td>\n",
       "      <td>69071.0</td>\n",
       "      <td>199.000000</td>\n",
       "      <td>199.000000</td>\n",
       "      <td>1251.500000</td>\n",
       "      <td>0.0</td>\n",
       "      <td>66.000000</td>\n",
       "    </tr>\n",
       "    <tr>\n",
       "      <th>75%</th>\n",
       "      <td>1.683218e+12</td>\n",
       "      <td>2738.750000</td>\n",
       "      <td>200.0</td>\n",
       "      <td>NaN</td>\n",
       "      <td>59128.0</td>\n",
       "      <td>69071.0</td>\n",
       "      <td>411.750000</td>\n",
       "      <td>411.750000</td>\n",
       "      <td>2614.500000</td>\n",
       "      <td>0.0</td>\n",
       "      <td>74.000000</td>\n",
       "    </tr>\n",
       "    <tr>\n",
       "      <th>max</th>\n",
       "      <td>1.683218e+12</td>\n",
       "      <td>4368.000000</td>\n",
       "      <td>200.0</td>\n",
       "      <td>NaN</td>\n",
       "      <td>59128.0</td>\n",
       "      <td>69071.0</td>\n",
       "      <td>619.000000</td>\n",
       "      <td>619.000000</td>\n",
       "      <td>4246.000000</td>\n",
       "      <td>0.0</td>\n",
       "      <td>1102.000000</td>\n",
       "    </tr>\n",
       "  </tbody>\n",
       "</table>\n",
       "</div>"
      ],
      "text/plain": [
       "          timeStamp      elapsed  responseCode  failureMessage    bytes   \n",
       "count  1.650000e+03  1650.000000        1650.0             0.0   1650.0  \\\n",
       "mean   1.683218e+12  1676.758182         200.0             NaN  59128.0   \n",
       "std    2.268368e+03  1150.008791           0.0             NaN      0.0   \n",
       "min    1.683218e+12   349.000000         200.0             NaN  59128.0   \n",
       "25%    1.683218e+12   543.250000         200.0             NaN  59128.0   \n",
       "50%    1.683218e+12  1386.500000         200.0             NaN  59128.0   \n",
       "75%    1.683218e+12  2738.750000         200.0             NaN  59128.0   \n",
       "max    1.683218e+12  4368.000000         200.0             NaN  59128.0   \n",
       "\n",
       "       sentBytes   grpThreads   allThreads      Latency  IdleTime      Connect  \n",
       "count     1650.0  1650.000000  1650.000000  1650.000000    1650.0  1650.000000  \n",
       "mean     69071.0   250.049697   250.049697  1547.796364       0.0    71.689697  \n",
       "std          0.0   188.018343   188.018343  1148.660130       0.0    57.663960  \n",
       "min      69071.0     1.000000     1.000000   235.000000       0.0    55.000000  \n",
       "25%      69071.0    80.000000    80.000000   416.250000       0.0    61.000000  \n",
       "50%      69071.0   199.000000   199.000000  1251.500000       0.0    66.000000  \n",
       "75%      69071.0   411.750000   411.750000  2614.500000       0.0    74.000000  \n",
       "max      69071.0   619.000000   619.000000  4246.000000       0.0  1102.000000  "
      ]
     },
     "execution_count": 258,
     "metadata": {},
     "output_type": "execute_result"
    }
   ],
   "source": [
    "df_q.describe()"
   ]
  },
  {
   "attachments": {},
   "cell_type": "markdown",
   "metadata": {},
   "source": [
    "Nesses describes dos nossos DataFrames podemos perceber que o BubbleSort mantêm em média 804 requisições em espera simultaneamente, o QuickSort, por resolver suas requisições mais rapidamente, mantêm em média 250 requesições ativas simultaneamente."
   ]
  },
  {
   "attachments": {},
   "cell_type": "markdown",
   "metadata": {},
   "source": [
    "# Gráficos"
   ]
  },
  {
   "attachments": {},
   "cell_type": "markdown",
   "metadata": {},
   "source": [
    "Algumas funções para auxiliar nos plots."
   ]
  },
  {
   "cell_type": "code",
   "execution_count": 259,
   "metadata": {},
   "outputs": [],
   "source": [
    "def req_index_latency(df, color = \"purple\"):\n",
    "    plot(range(0, df.shape[0]), df['Latency'], 'Request index', 'Latency', color)\n",
    "\n",
    "def req_index_elapsed(df, color = \"purple\"):\n",
    "    plot(range(0, df.shape[0]), df['elapsed'], 'Request index', 'Elapsed time', color)\n",
    "\n",
    "def plot(x, y, xlabel, ylabel, color = \"blue\"):\n",
    "    plt.plot(x, y, color = color)\n",
    "    plt.xlabel(xlabel)\n",
    "    plt.ylabel(ylabel)"
   ]
  },
  {
   "attachments": {},
   "cell_type": "markdown",
   "metadata": {},
   "source": [
    "## Latência em função da ordem das requisições"
   ]
  },
  {
   "attachments": {},
   "cell_type": "markdown",
   "metadata": {},
   "source": [
    "Index maiores representam chamadas realizadas mais tarde na execução do teste.  \n",
    "Index 0 = Primeira chamada  \n",
    "Index 1 = Segunda chamada"
   ]
  },
  {
   "cell_type": "code",
   "execution_count": 260,
   "metadata": {},
   "outputs": [
    {
     "data": {
      "image/png": "[encoded data removed]",
      "text/plain": [
       "<Figure size 640x480 with 1 Axes>"
      ]
     },
     "metadata": {},
     "output_type": "display_data"
    }
   ],
   "source": [
    "req_index_latency(df_b)\n",
    "plt.title(\"Bubble Sort Server\")\n",
    "plt.savefig(\"B_ReqIndexVSLatency.png\")"
   ]
  },
  {
   "cell_type": "code",
   "execution_count": 261,
   "metadata": {},
   "outputs": [
    {
     "data": {
      "image/png": "[encoded data removed]",
      "text/plain": [
       "<Figure size 640x480 with 1 Axes>"
      ]
     },
     "metadata": {},
     "output_type": "display_data"
    }
   ],
   "source": [
    "req_index_latency(df_q)\n",
    "plt.title(\"Quick Sort Server\")\n",
    "plt.savefig(\"Q_ReqIndexVSLatency.png\")"
   ]
  },
  {
   "attachments": {},
   "cell_type": "markdown",
   "metadata": {},
   "source": [
    "## Comparação entre as duas versões do servidor"
   ]
  },
  {
   "cell_type": "code",
   "execution_count": 262,
   "metadata": {},
   "outputs": [
    {
     "data": {
      "image/png": "[encoded data removed]",
      "text/plain": [
       "<Figure size 640x480 with 1 Axes>"
      ]
     },
     "metadata": {},
     "output_type": "display_data"
    }
   ],
   "source": [
    "req_index_latency(df_b, \"blue\")\n",
    "req_index_latency(df_q, \"purple\")\n",
    "plt.title(\"Latency comparison between Bubble Sort and Quick Sort server version\")\n",
    "plt.legend([\"Bubble Sort\", \"Quick Sort\"])\n",
    "plt.savefig(\"QB_Comparison_ReqIndexVSLatency.png\")"
   ]
  }
 ],
 "metadata": {
  "kernelspec": {
   "display_name": "StressTestingPlots",
   "language": "python",
   "name": "stresstestingplots"
  },
  "language_info": {
   "codemirror_mode": {
    "name": "ipython",
    "version": 3
   },
   "file_extension": ".py",
   "mimetype": "text/x-python",
   "name": "python",
   "nbconvert_exporter": "python",
   "pygments_lexer": "ipython3",
   "version": "3.11.3"
  },
  "orig_nbformat": 4
 },
 "nbformat": 4,
 "nbformat_minor": 2
}
